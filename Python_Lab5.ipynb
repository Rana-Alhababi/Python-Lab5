{
  "nbformat": 4,
  "nbformat_minor": 0,
  "metadata": {
    "colab": {
      "provenance": []
    },
    "kernelspec": {
      "name": "python3",
      "display_name": "Python 3"
    },
    "language_info": {
      "name": "python"
    }
  },
  "cells": [
    {
      "cell_type": "code",
      "execution_count": 17,
      "metadata": {
        "id": "DjIw-VJIX9v0",
        "colab": {
          "base_uri": "https://localhost:8080/"
        },
        "outputId": "66239292-6459-44b7-d266-7b306abefcfa"
      },
      "outputs": [
        {
          "output_type": "stream",
          "name": "stdout",
          "text": [
            "Enter a number: 7\n",
            "7 6 5 4 3 2 1 \n",
            "6 5 4 3 2 1 \n",
            "5 4 3 2 1 \n",
            "4 3 2 1 \n",
            "3 2 1 \n",
            "2 1 \n",
            "1 \n"
          ]
        }
      ],
      "source": [
        "\n",
        "def print_pattern():\n",
        "    num = int(input(\"Enter a number: \"))\n",
        "    for i in range(num, 0, -1):\n",
        "        for j in range(i, 0, -1):\n",
        "            print(j, end=' ')\n",
        "        print()\n",
        "print_pattern()"
      ]
    }
  ]
}